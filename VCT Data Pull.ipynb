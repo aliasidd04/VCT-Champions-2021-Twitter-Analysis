{
 "cells": [
  {
   "cell_type": "code",
   "execution_count": 1,
   "id": "e91fd82a",
   "metadata": {},
   "outputs": [],
   "source": [
    "import tensorflow as tf\n",
    "import os\n",
    "import tweepy\n",
    "import pandas as pd\n",
    "import re\n",
    "import webbrowser\n",
    "from textblob import TextBlob\n",
    "from wordcloud import WordCloud\n",
    "import matplotlib.pyplot as plt\n",
    "plt.style.use('fivethirtyeight')"
   ]
  },
  {
   "cell_type": "code",
   "execution_count": 2,
   "id": "a51119d3",
   "metadata": {},
   "outputs": [
    {
     "name": "stdout",
     "output_type": "stream",
     "text": [
      "What's the pin value?0004520\n"
     ]
    },
    {
     "data": {
      "text/plain": [
       "('2773628975-7rI3AqocD91zMGhKn3fp2FnaNSz4JTj4sq7b7gN',\n",
       " 'r8qAvaE9DeOk5m0JiRfVqSiAqZG6isH1slx8CyhwWGzEy')"
      ]
     },
     "execution_count": 2,
     "metadata": {},
     "output_type": "execute_result"
    }
   ],
   "source": [
    "consumer_key = \"zVLdE6Sua8wFBx1ClFZeddMJl\"\n",
    "consumer_secret = \"Q7aROIF6FOkKwm9QOqlFncb4CC9MBm2bGzhU7BW378hmjayvVc\"\n",
    "callback_uri = 'oob' # https://cfe.sh/twitter/callback\n",
    "auth = tweepy.OAuthHandler(consumer_key, consumer_secret, callback_uri)\n",
    "redirect_url = auth.get_authorization_url()\n",
    "webbrowser.open(redirect_url)\n",
    "user_pin_input = input(\"What's the pin value?\")\n",
    "auth.get_access_token(user_pin_input) # auth.access_token & auth.access_token_secret"
   ]
  },
  {
   "cell_type": "code",
   "execution_count": 3,
   "id": "3145e2e3",
   "metadata": {},
   "outputs": [
    {
     "name": "stdout",
     "output_type": "stream",
     "text": [
      "aliasidd04\n"
     ]
    }
   ],
   "source": [
    "api = tweepy.API(auth, wait_on_rate_limit = True)\n",
    "me = api.me()\n",
    "print(me.screen_name)"
   ]
  },
  {
   "cell_type": "code",
   "execution_count": 4,
   "id": "922c5581",
   "metadata": {},
   "outputs": [],
   "source": [
    "def extract_list_as_df(timeline_list, team, playing_today):\n",
    "    columns = set()\n",
    "    allowed_types = [str, int]\n",
    "    tweets_data = []\n",
    "    \n",
    "    for tweet in timeline_list: # for each tweet in list of tweets\n",
    "\n",
    "        status_obj_url = f\"https://twitter.com/{tweet['screen_name']}/status/{tweet['id']}\" # creates link for tweet\n",
    "        \n",
    "        single_tweet_data = {\"user\": tweet['screen_name'], \n",
    "                             \"id\": tweet['id'],\n",
    "                             \"text\": tweet['text'],\n",
    "                             \"url\": status_obj_url,\n",
    "                             \"datetime\": tweet['date'],\n",
    "                             \"playing_today\": playing_today}\n",
    "        \n",
    "        tweets_data.append(single_tweet_data)\n",
    "        \n",
    "    header_cols = list(columns)\n",
    "    header_cols.extend((\"user\",\"id\", \"text\",\"url\",\"datetime\", \"playing_today\"))\n",
    "\n",
    "    df = pd.DataFrame(tweets_data, columns = header_cols)    \n",
    "    return df"
   ]
  },
  {
   "cell_type": "code",
   "execution_count": 5,
   "id": "bc789d2c",
   "metadata": {},
   "outputs": [],
   "source": [
    "def cleanText(text):\n",
    "    text = re.sub(r'(@[A-Za-z]+)|([:_]+)', '', text) # remove @ mentions\n",
    "    text = re.sub(r'#', '', text) # remove # symbol\n",
    "    text = re.sub(r'RT[\\s]+', '', text) # remove retweets\n",
    "    text = re.sub(r'https?:\\/\\/\\S+', '', text) # remove hyperlinks\n",
    "    text = re.sub(r'https\\S+', '', text) # remove hyperlinks\n",
    "    \n",
    "    return text"
   ]
  },
  {
   "cell_type": "code",
   "execution_count": 6,
   "id": "057c19dc",
   "metadata": {
    "scrolled": true
   },
   "outputs": [],
   "source": [
    "def getResults(query, day):\n",
    "    results = []\n",
    "\n",
    "    for i, status in enumerate(tweepy.Cursor(api.search, q=query, since=day,lang=\"en\").items(10000)):\n",
    "        tweet = {}\n",
    "        tweet['user_id']  = str(status.user.id)\n",
    "        tweet['id'] = str(status.id)\n",
    "        tweet['screen_name'] = status.user.screen_name\n",
    "        tweet['text'] = status.text\n",
    "        tweet['date'] = status.created_at\n",
    "        tweet['date'] = tweet['date'].strftime('%Y-%m-%d, %H:%M:%S')\n",
    "        results.append(tweet.copy())\n",
    "        \n",
    "    return results"
   ]
  },
  {
   "cell_type": "code",
   "execution_count": null,
   "id": "9d62845a",
   "metadata": {},
   "outputs": [],
   "source": [
    "team = 'envy'\n",
    "day = '2021-12-04'\n",
    "playing_today = False\n",
    "path = f'C:\\\\Users\\\\Ali\\\\Desktop\\\\Coding\\\\Data Science Practice\\\\Twitter\\\\CSV Files\\\\{day}' \n",
    "#query = 'ludwig -filter:retweets'\n",
    "query = f\"{team} #VCT OR {team} #VALORANTChampions -filter:retweets -from:valesports_na -from:ValorantEsports\""
   ]
  },
  {
   "cell_type": "code",
   "execution_count": null,
   "id": "84a7bcbb",
   "metadata": {},
   "outputs": [],
   "source": [
    "df = extract_list_as_df(results, team, playing_today)\n",
    "df.size"
   ]
  },
  {
   "cell_type": "code",
   "execution_count": null,
   "id": "3aa8c13f",
   "metadata": {},
   "outputs": [],
   "source": [
    "df"
   ]
  },
  {
   "cell_type": "code",
   "execution_count": null,
   "id": "d6ab511b",
   "metadata": {},
   "outputs": [],
   "source": []
  },
  {
   "cell_type": "code",
   "execution_count": 7,
   "id": "e9fa5a3d",
   "metadata": {},
   "outputs": [
    {
     "data": {
      "text/plain": [
       "\"\\n# Create two new columns\\ndf['Subjectivity'] = df['text'].apply(getSubjectivity)\\ndf['Polarity'] = df['text'].apply(getPolarity)\\n\\n# Show the new dataframe with the new columns\\ndf\\n\""
      ]
     },
     "execution_count": 7,
     "metadata": {},
     "output_type": "execute_result"
    }
   ],
   "source": [
    "# Create function to get the subjectivity\n",
    "def getSubjectivity(text):\n",
    "    return TextBlob(text).sentiment.subjectivity\n",
    "\n",
    "# Create function to get the polarity (how positive or negative the function is)\n",
    "def getPolarity(text):\n",
    "    return TextBlob(text).sentiment.polarity\n",
    "'''\n",
    "# Create two new columns\n",
    "df['Subjectivity'] = df['text'].apply(getSubjectivity)\n",
    "df['Polarity'] = df['text'].apply(getPolarity)\n",
    "\n",
    "# Show the new dataframe with the new columns\n",
    "df\n",
    "'''"
   ]
  },
  {
   "cell_type": "code",
   "execution_count": 8,
   "id": "98b89e4a",
   "metadata": {},
   "outputs": [
    {
     "data": {
      "text/plain": [
       "\"\\n# Create the new column\\ndf['Analysis'] = df['Polarity'].apply(getAnalysis)\\n\\n# Show the new dataframe with the new column\\ndf\\n\""
      ]
     },
     "execution_count": 8,
     "metadata": {},
     "output_type": "execute_result"
    }
   ],
   "source": [
    "# Create a function to compute the negative, neutral and positive analysis\n",
    "def getAnalysis(score):\n",
    "    if score < 0:\n",
    "        return 'Negative'\n",
    "    elif score == 0:\n",
    "        return 'Neutral'\n",
    "    else:\n",
    "        return 'Positive'\n",
    "'''\n",
    "# Create the new column\n",
    "df['Analysis'] = df['Polarity'].apply(getAnalysis)\n",
    "\n",
    "# Show the new dataframe with the new column\n",
    "df\n",
    "'''"
   ]
  },
  {
   "cell_type": "code",
   "execution_count": 59,
   "id": "bc24560a",
   "metadata": {},
   "outputs": [
    {
     "data": {
      "text/html": [
       "<div>\n",
       "<style scoped>\n",
       "    .dataframe tbody tr th:only-of-type {\n",
       "        vertical-align: middle;\n",
       "    }\n",
       "\n",
       "    .dataframe tbody tr th {\n",
       "        vertical-align: top;\n",
       "    }\n",
       "\n",
       "    .dataframe thead th {\n",
       "        text-align: right;\n",
       "    }\n",
       "</style>\n",
       "<table border=\"1\" class=\"dataframe\">\n",
       "  <thead>\n",
       "    <tr style=\"text-align: right;\">\n",
       "      <th></th>\n",
       "      <th>user</th>\n",
       "      <th>id</th>\n",
       "      <th>text</th>\n",
       "      <th>url</th>\n",
       "      <th>datetime</th>\n",
       "      <th>playing_today</th>\n",
       "      <th>Subjectivity</th>\n",
       "      <th>Polarity</th>\n",
       "      <th>Analysis</th>\n",
       "    </tr>\n",
       "  </thead>\n",
       "  <tbody>\n",
       "    <tr>\n",
       "      <th>0</th>\n",
       "      <td>pezlee</td>\n",
       "      <td>1470272997441392641</td>\n",
       "      <td>I know who won. But Gambit is still the best team in the world to me. Idc idc. Congrats to Acend tho they fought hard af. VALORANTChampions</td>\n",
       "      <td>https://twitter.com/pezlee/status/1470272997441392641</td>\n",
       "      <td>2021-12-13, 06:02:53</td>\n",
       "      <td>True</td>\n",
       "      <td>0.420833</td>\n",
       "      <td>0.354167</td>\n",
       "      <td>Positive</td>\n",
       "    </tr>\n",
       "    <tr>\n",
       "      <th>1</th>\n",
       "      <td>NetherEnderStry</td>\n",
       "      <td>1470272453385539584</td>\n",
       "      <td>Acend are the first champs. Gambit are one of the first two finalists. No matter what, ALL teams that competed got</td>\n",
       "      <td>https://twitter.com/NetherEnderStry/status/1470272453385539584</td>\n",
       "      <td>2021-12-13, 06:00:43</td>\n",
       "      <td>True</td>\n",
       "      <td>0.333333</td>\n",
       "      <td>0.250000</td>\n",
       "      <td>Positive</td>\n",
       "    </tr>\n",
       "    <tr>\n",
       "      <th>2</th>\n",
       "      <td>t7hai</td>\n",
       "      <td>1470269773845958659</td>\n",
       "      <td>acend build diff VALORANTChampions</td>\n",
       "      <td>https://twitter.com/t7hai/status/1470269773845958659</td>\n",
       "      <td>2021-12-13, 05:50:05</td>\n",
       "      <td>True</td>\n",
       "      <td>0.000000</td>\n",
       "      <td>0.000000</td>\n",
       "      <td>Neutral</td>\n",
       "    </tr>\n",
       "    <tr>\n",
       "      <th>3</th>\n",
       "      <td>ninopineda_</td>\n",
       "      <td>1470263763979096068</td>\n",
       "      <td>Called it!\\n\\nCongrats Acend and gg Gambit! \\n\\nVALORANTChampions</td>\n",
       "      <td>https://twitter.com/ninopineda_/status/1470263763979096068</td>\n",
       "      <td>2021-12-13, 05:26:12</td>\n",
       "      <td>True</td>\n",
       "      <td>0.000000</td>\n",
       "      <td>0.000000</td>\n",
       "      <td>Neutral</td>\n",
       "    </tr>\n",
       "    <tr>\n",
       "      <th>4</th>\n",
       "      <td>teammercindia</td>\n",
       "      <td>1470252473512194048</td>\n",
       "      <td>It's was 3-2 win for Acend!\\nWell Played! \\nVALORANTChampions</td>\n",
       "      <td>https://twitter.com/teammercindia/status/1470252473512194048</td>\n",
       "      <td>2021-12-13, 04:41:20</td>\n",
       "      <td>True</td>\n",
       "      <td>0.400000</td>\n",
       "      <td>1.000000</td>\n",
       "      <td>Positive</td>\n",
       "    </tr>\n",
       "    <tr>\n",
       "      <th>...</th>\n",
       "      <td>...</td>\n",
       "      <td>...</td>\n",
       "      <td>...</td>\n",
       "      <td>...</td>\n",
       "      <td>...</td>\n",
       "      <td>...</td>\n",
       "      <td>...</td>\n",
       "      <td>...</td>\n",
       "      <td>...</td>\n",
       "    </tr>\n",
       "    <tr>\n",
       "      <th>752</th>\n",
       "      <td>GeorgeCGed</td>\n",
       "      <td>1469675662701121545</td>\n",
       "      <td>My official VALORANTChampions Predictions for Day 10 \\n\\n- Liquid 2-1 Acend \\n- Gambit 2-1 KRU \\n\\nThoughts?</td>\n",
       "      <td>https://twitter.com/GeorgeCGed/status/1469675662701121545</td>\n",
       "      <td>2021-12-11, 14:29:17</td>\n",
       "      <td>True</td>\n",
       "      <td>0.000000</td>\n",
       "      <td>0.000000</td>\n",
       "      <td>Neutral</td>\n",
       "    </tr>\n",
       "    <tr>\n",
       "      <th>753</th>\n",
       "      <td>AdamShoto</td>\n",
       "      <td>1469666866519891976</td>\n",
       "      <td>my predictions for today \\nTeam Liquid 2-1 Acend\\nas long SCREAM not playing jett XD\\nGambit 2-1 Kru \\nunless Gambit st</td>\n",
       "      <td>https://twitter.com/AdamShoto/status/1469666866519891976</td>\n",
       "      <td>2021-12-11, 13:54:20</td>\n",
       "      <td>True</td>\n",
       "      <td>0.400000</td>\n",
       "      <td>-0.050000</td>\n",
       "      <td>Negative</td>\n",
       "    </tr>\n",
       "    <tr>\n",
       "      <th>754</th>\n",
       "      <td>NoobHaruru</td>\n",
       "      <td>1469665319094403073</td>\n",
       "      <td>my predictions for today \\nTeam Liquid 2-1 Acend\\nGambit 2-0 Kru \\nVAMOS    VALORANTChampions</td>\n",
       "      <td>https://twitter.com/NoobHaruru/status/1469665319094403073</td>\n",
       "      <td>2021-12-11, 13:48:11</td>\n",
       "      <td>True</td>\n",
       "      <td>0.000000</td>\n",
       "      <td>0.000000</td>\n",
       "      <td>Neutral</td>\n",
       "    </tr>\n",
       "    <tr>\n",
       "      <th>755</th>\n",
       "      <td>hex4MT</td>\n",
       "      <td>1469622975385251840</td>\n",
       "      <td>Semi Finals day! VALORANTChampions \\n\\nLiquid 2-1 Acend?\\nGambit 2-0 KRU?\\n\\nhard to predict</td>\n",
       "      <td>https://twitter.com/hex4MT/status/1469622975385251840</td>\n",
       "      <td>2021-12-11, 10:59:56</td>\n",
       "      <td>True</td>\n",
       "      <td>0.541667</td>\n",
       "      <td>-0.291667</td>\n",
       "      <td>Negative</td>\n",
       "    </tr>\n",
       "    <tr>\n",
       "      <th>756</th>\n",
       "      <td>DeugemoTwo</td>\n",
       "      <td>1469611731206950912</td>\n",
       "      <td>The VALORANTChampions semifinalists rates\\n\\n[Round WR | W-L | Maps WR ]\\n\\nAcend 59,59% | +28 | 80%\\nTeam Liquid</td>\n",
       "      <td>https://twitter.com/DeugemoTwo/status/1469611731206950912</td>\n",
       "      <td>2021-12-11, 10:15:15</td>\n",
       "      <td>True</td>\n",
       "      <td>0.400000</td>\n",
       "      <td>-0.200000</td>\n",
       "      <td>Negative</td>\n",
       "    </tr>\n",
       "  </tbody>\n",
       "</table>\n",
       "<p>757 rows × 9 columns</p>\n",
       "</div>"
      ],
      "text/plain": [
       "                user                   id  \\\n",
       "0             pezlee  1470272997441392641   \n",
       "1    NetherEnderStry  1470272453385539584   \n",
       "2              t7hai  1470269773845958659   \n",
       "3        ninopineda_  1470263763979096068   \n",
       "4      teammercindia  1470252473512194048   \n",
       "..               ...                  ...   \n",
       "752       GeorgeCGed  1469675662701121545   \n",
       "753        AdamShoto  1469666866519891976   \n",
       "754       NoobHaruru  1469665319094403073   \n",
       "755           hex4MT  1469622975385251840   \n",
       "756       DeugemoTwo  1469611731206950912   \n",
       "\n",
       "                                                                                                                                            text  \\\n",
       "0    I know who won. But Gambit is still the best team in the world to me. Idc idc. Congrats to Acend tho they fought hard af. VALORANTChampions   \n",
       "1                            Acend are the first champs. Gambit are one of the first two finalists. No matter what, ALL teams that competed got    \n",
       "2                                                                                                             acend build diff VALORANTChampions   \n",
       "3                                                                              Called it!\\n\\nCongrats Acend and gg Gambit! \\n\\nVALORANTChampions   \n",
       "4                                                                                  It's was 3-2 win for Acend!\\nWell Played! \\nVALORANTChampions   \n",
       "..                                                                                                                                           ...   \n",
       "752                                 My official VALORANTChampions Predictions for Day 10 \\n\\n- Liquid 2-1 Acend \\n- Gambit 2-1 KRU \\n\\nThoughts?   \n",
       "753                     my predictions for today \\nTeam Liquid 2-1 Acend\\nas long SCREAM not playing jett XD\\nGambit 2-1 Kru \\nunless Gambit st    \n",
       "754                                                my predictions for today \\nTeam Liquid 2-1 Acend\\nGambit 2-0 Kru \\nVAMOS    VALORANTChampions   \n",
       "755                                                Semi Finals day! VALORANTChampions \\n\\nLiquid 2-1 Acend?\\nGambit 2-0 KRU?\\n\\nhard to predict    \n",
       "756                           The VALORANTChampions semifinalists rates\\n\\n[Round WR | W-L | Maps WR ]\\n\\nAcend 59,59% | +28 | 80%\\nTeam Liquid    \n",
       "\n",
       "                                                                url  \\\n",
       "0             https://twitter.com/pezlee/status/1470272997441392641   \n",
       "1    https://twitter.com/NetherEnderStry/status/1470272453385539584   \n",
       "2              https://twitter.com/t7hai/status/1470269773845958659   \n",
       "3        https://twitter.com/ninopineda_/status/1470263763979096068   \n",
       "4      https://twitter.com/teammercindia/status/1470252473512194048   \n",
       "..                                                              ...   \n",
       "752       https://twitter.com/GeorgeCGed/status/1469675662701121545   \n",
       "753        https://twitter.com/AdamShoto/status/1469666866519891976   \n",
       "754       https://twitter.com/NoobHaruru/status/1469665319094403073   \n",
       "755           https://twitter.com/hex4MT/status/1469622975385251840   \n",
       "756       https://twitter.com/DeugemoTwo/status/1469611731206950912   \n",
       "\n",
       "                 datetime  playing_today  Subjectivity  Polarity  Analysis  \n",
       "0    2021-12-13, 06:02:53           True      0.420833  0.354167  Positive  \n",
       "1    2021-12-13, 06:00:43           True      0.333333  0.250000  Positive  \n",
       "2    2021-12-13, 05:50:05           True      0.000000  0.000000   Neutral  \n",
       "3    2021-12-13, 05:26:12           True      0.000000  0.000000   Neutral  \n",
       "4    2021-12-13, 04:41:20           True      0.400000  1.000000  Positive  \n",
       "..                    ...            ...           ...       ...       ...  \n",
       "752  2021-12-11, 14:29:17           True      0.000000  0.000000   Neutral  \n",
       "753  2021-12-11, 13:54:20           True      0.400000 -0.050000  Negative  \n",
       "754  2021-12-11, 13:48:11           True      0.000000  0.000000   Neutral  \n",
       "755  2021-12-11, 10:59:56           True      0.541667 -0.291667  Negative  \n",
       "756  2021-12-11, 10:15:15           True      0.400000 -0.200000  Negative  \n",
       "\n",
       "[757 rows x 9 columns]"
      ]
     },
     "execution_count": 59,
     "metadata": {},
     "output_type": "execute_result"
    }
   ],
   "source": [
    "team = 'acend'\n",
    "day = '2021-12-11'\n",
    "playing_today = True\n",
    "path = f'C:\\\\Users\\\\Ali\\\\Desktop\\\\Coding\\\\Data Science Practice\\\\Twitter\\\\CSV Files\\\\{day}' \n",
    "query = f\"{team} #VCT OR {team} #VALORANTChampions -filter:retweets -from:valesports_na -from:ValorantEsports\"\n",
    "\n",
    "results = getResults(query,day)\n",
    "df = extract_list_as_df(results, team, playing_today)\n",
    "\n",
    "pd.set_option('max_colwidth', 400)\n",
    "df['text']= df['text'].apply(cleanText)\n",
    "\n",
    "df['text'] = df['text'].str.replace(r'[^\\x00-\\x7F]+', '', regex=True)\n",
    "\n",
    "df['Subjectivity'] = df['text'].apply(getSubjectivity)\n",
    "df['Polarity'] = df['text'].apply(getPolarity)\n",
    "\n",
    "df['Analysis'] = df['Polarity'].apply(getAnalysis)\n",
    "\n",
    "df"
   ]
  },
  {
   "cell_type": "code",
   "execution_count": 60,
   "id": "8ec454c5",
   "metadata": {},
   "outputs": [],
   "source": [
    "df.to_csv(os.path.join(path,f'{team} ({day}).csv'))"
   ]
  },
  {
   "cell_type": "code",
   "execution_count": null,
   "id": "6fc9c434",
   "metadata": {},
   "outputs": [],
   "source": []
  }
 ],
 "metadata": {
  "kernelspec": {
   "display_name": "Python 3 (ipykernel)",
   "language": "python",
   "name": "python3"
  },
  "language_info": {
   "codemirror_mode": {
    "name": "ipython",
    "version": 3
   },
   "file_extension": ".py",
   "mimetype": "text/x-python",
   "name": "python",
   "nbconvert_exporter": "python",
   "pygments_lexer": "ipython3",
   "version": "3.8.11"
  }
 },
 "nbformat": 4,
 "nbformat_minor": 5
}
