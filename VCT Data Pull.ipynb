{
 "cells": [
  {
   "cell_type": "code",
   "execution_count": null,
   "id": "36872e5c-6394-454f-bde9-cd61b570c01a",
   "metadata": {},
   "outputs": [],
   "source": [
    "# The purpose of this file is to create datasets of tweets about each of the teams participating in VCT Champions 2021.\n",
    "# The file uses Tweepy to pull tweets using a given query and stores them as CSVs using pandas.\n",
    "# A sentiment analysis is conducted on all tweets, using the textblob library"
   ]
  },
  {
   "cell_type": "code",
   "execution_count": null,
   "id": "e91fd82a",
   "metadata": {},
   "outputs": [],
   "source": [
    "import os\n",
    "import tweepy\n",
    "import pandas as pd\n",
    "import re\n",
    "import webbrowser\n",
    "from textblob import TextBlob\n",
    "from wordcloud import WordCloud"
   ]
  },
  {
   "cell_type": "code",
   "execution_count": null,
   "id": "a51119d3",
   "metadata": {},
   "outputs": [],
   "source": [
    "# Authentication\n",
    "\n",
    "consumer_key = \"\" # Omitted for security reasons\n",
    "consumer_secret = \"\" # Omitted for security reasons\n",
    "callback_uri = 'oob' # https://cfe.sh/twitter/callback\n",
    "auth = tweepy.OAuthHandler(consumer_key, consumer_secret, callback_uri)\n",
    "redirect_url = auth.get_authorization_url()\n",
    "webbrowser.open(redirect_url)\n",
    "user_pin_input = input(\"What's the pin value?\")\n",
    "auth.get_access_token(user_pin_input) # auth.access_token & auth.access_token_secret"
   ]
  },
  {
   "cell_type": "code",
   "execution_count": null,
   "id": "3145e2e3",
   "metadata": {},
   "outputs": [],
   "source": [
    "# Verifying that the api is working, prints my username (aliasidd04)\n",
    "\n",
    "api = tweepy.API(auth, wait_on_rate_limit = True)\n",
    "me = api.me()\n",
    "print(me.screen_name)"
   ]
  },
  {
   "cell_type": "code",
   "execution_count": null,
   "id": "922c5581",
   "metadata": {},
   "outputs": [],
   "source": [
    "def extract_list_as_df(timeline_list, team, playing_today):\n",
    "    \n",
    "    # Takes in a list of tweets, generated through tweepy, and converts the list into a pandas dataframe\n",
    "    \n",
    "    columns = set()\n",
    "    allowed_types = [str, int]\n",
    "    tweets_data = [] # List that will contain the data for the dataframe\n",
    "    \n",
    "    for tweet in timeline_list: # For each tweet in the list of tweets pulled from tweepy\n",
    "\n",
    "        status_obj_url = f\"https://twitter.com/{tweet['screen_name']}/status/{tweet['id']}\" # Creates a link for tweet, to be added to the dataframe\n",
    "        \n",
    "        single_tweet_data = {\"user\": tweet['screen_name'], # Username of the tweeter\n",
    "                             \"id\": tweet['id'], # Unique ID of tweets\n",
    "                             \"text\": tweet['text'], # Text in the tweet\n",
    "                             \"url\": status_obj_url, # URL generated above\n",
    "                             \"datetime\": tweet['date'], # Date and time of tweet is UTC\n",
    "                             \"playing_today\": playing_today} # Custom field I manually updated each day for each team, to help label which teams were playing on what days\n",
    "        \n",
    "        tweets_data.append(single_tweet_data)\n",
    "        \n",
    "    header_cols = list(columns) # Creating the column names of the dataframe\n",
    "    header_cols.extend((\"user\",\"id\", \"text\",\"url\",\"datetime\", \"playing_today\"))\n",
    "\n",
    "    df = pd.DataFrame(tweets_data, columns = header_cols)    \n",
    "    return df"
   ]
  },
  {
   "cell_type": "code",
   "execution_count": null,
   "id": "bc789d2c",
   "metadata": {},
   "outputs": [],
   "source": [
    "def cleanText(text):\n",
    "    \n",
    "    # Takes in the list of tweet text and removes any unecessary symbols, numbers, or letters which may interfere with the sentiment analysis\n",
    "    \n",
    "    text = re.sub(r'(@[A-Za-z]+)|([:_]+)', '', text) # remove @ mentions\n",
    "    text = re.sub(r'#', '', text) # remove # symbol\n",
    "    text = re.sub(r'RT[\\s]+', '', text) # remove retweets\n",
    "    text = re.sub(r'https?:\\/\\/\\S+', '', text) # remove hyperlinks\n",
    "    text = re.sub(r'https\\S+', '', text) # remove hyperlinks\n",
    "    \n",
    "    return text"
   ]
  },
  {
   "cell_type": "code",
   "execution_count": null,
   "id": "057c19dc",
   "metadata": {
    "scrolled": true
   },
   "outputs": [],
   "source": [
    "def getResults(query, day):\n",
    "    results = []\n",
    "\n",
    "    for i, status in enumerate(tweepy.Cursor(api.search, q=query, since=day,lang=\"en\").items(10000)):\n",
    "        tweet = {}\n",
    "        tweet['user_id']  = str(status.user.id)\n",
    "        tweet['id'] = str(status.id)\n",
    "        tweet['screen_name'] = status.user.screen_name\n",
    "        tweet['text'] = status.text\n",
    "        tweet['date'] = status.created_at\n",
    "        tweet['date'] = tweet['date'].strftime('%Y-%m-%d, %H:%M:%S')\n",
    "        results.append(tweet.copy())\n",
    "        \n",
    "    return results"
   ]
  },
  {
   "cell_type": "code",
   "execution_count": null,
   "id": "e9fa5a3d",
   "metadata": {},
   "outputs": [],
   "source": [
    "def getSubjectivity(text):\n",
    "   \n",
    "    # Function to get the subjectivity of a tweet (between 0 and 1, 1 being more opinionated and 0 being more factual\n",
    "    \n",
    "    return TextBlob(text).sentiment.subjectivity\n",
    "\n",
    "def getPolarity(text):\n",
    "    \n",
    "    # Create function to get the polarity (how positive or negative the function is)\n",
    "    \n",
    "    return TextBlob(text).sentiment.polarity"
   ]
  },
  {
   "cell_type": "code",
   "execution_count": null,
   "id": "98b89e4a",
   "metadata": {},
   "outputs": [],
   "source": [
    "def getAnalysis(score):\n",
    "    \n",
    "    # Function to compute the negative, neutral and positive analysis, based on a tweets polarity\n",
    "    \n",
    "    if score < 0:\n",
    "        return 'Negative'\n",
    "    elif score == 0:\n",
    "        return 'Neutral'\n",
    "    else:\n",
    "        return 'Positive'"
   ]
  },
  {
   "cell_type": "code",
   "execution_count": null,
   "id": "bc24560a",
   "metadata": {},
   "outputs": [],
   "source": [
    "team = 'acend' # Team for which the tweets are being pulled\n",
    "day = '2021-12-11' # Day of the tournament for which the tweets are being pulled\n",
    "playing_today = True # False if the team played on that day, True if they did\n",
    "path = f'C:\\\\Users\\\\Ali\\\\Desktop\\\\Coding\\\\Data Science Practice\\\\Twitter\\\\CSV Files\\\\{day}' \n",
    "query = f\"{team} #VCT OR {team} #VALORANTChampions -filter:retweets -from:valesports_na -from:ValorantEsports\" # Query that is sent through tweepy\n",
    "\n",
    "results = getResults(query,day) # Pulls\n",
    "df = extract_list_as_df(results, team, playing_today)\n",
    "\n",
    "pd.set_option('max_colwidth', 400)\n",
    "df['text']= df['text'].apply(cleanText)\n",
    "\n",
    "df['text'] = df['text'].str.replace(r'[^\\x00-\\x7F]+', '', regex=True)\n",
    "\n",
    "df['Subjectivity'] = df['text'].apply(getSubjectivity)\n",
    "df['Polarity'] = df['text'].apply(getPolarity)\n",
    "\n",
    "df['Analysis'] = df['Polarity'].apply(getAnalysis)\n",
    "\n",
    "df"
   ]
  },
  {
   "cell_type": "code",
   "execution_count": null,
   "id": "8ec454c5",
   "metadata": {},
   "outputs": [],
   "source": [
    "df.to_csv(os.path.join(path,f'{team} ({day}).csv'))"
   ]
  },
  {
   "cell_type": "code",
   "execution_count": null,
   "id": "6fc9c434",
   "metadata": {},
   "outputs": [],
   "source": []
  }
 ],
 "metadata": {
  "kernelspec": {
   "display_name": "Python 3 (ipykernel)",
   "language": "python",
   "name": "python3"
  },
  "language_info": {
   "codemirror_mode": {
    "name": "ipython",
    "version": 3
   },
   "file_extension": ".py",
   "mimetype": "text/x-python",
   "name": "python",
   "nbconvert_exporter": "python",
   "pygments_lexer": "ipython3",
   "version": "3.8.11"
  }
 },
 "nbformat": 4,
 "nbformat_minor": 5
}
