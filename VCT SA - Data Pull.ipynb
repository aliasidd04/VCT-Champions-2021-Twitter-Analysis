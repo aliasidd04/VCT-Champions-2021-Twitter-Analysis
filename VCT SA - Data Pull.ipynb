{
 "cells": [
  {
   "cell_type": "code",
   "execution_count": null,
   "id": "d9e2df68-e530-4701-af8b-783e104cfb4e",
   "metadata": {},
   "outputs": [],
   "source": [
    "import os\n",
    "import tweepy\n",
    "import pandas as pd\n",
    "import re\n",
    "import webbrowser"
   ]
  },
  {
   "cell_type": "code",
   "execution_count": null,
   "id": "54ed9639-3265-470d-a230-cbfd930849bd",
   "metadata": {},
   "outputs": [],
   "source": [
    "# Authentication for tweepy\n",
    "\n",
    "consumer_key = \"\" # Omitted for security reasons\n",
    "consumer_secret = \"\" # Omitted for security reasons\n",
    "callback_uri = 'oob' # https://cfe.sh/twitter/callback\n",
    "auth = tweepy.OAuthHandler(consumer_key, consumer_secret, callback_uri)\n",
    "redirect_url = auth.get_authorization_url()\n",
    "webbrowser.open(redirect_url)\n",
    "user_pin_input = input(\"What's the pin value?\")\n",
    "auth.get_access_token(user_pin_input) # auth.access_token & auth.access_token_secret"
   ]
  },
  {
   "cell_type": "code",
   "execution_count": null,
   "id": "0e3ee1e7-73d0-4077-8d51-b49d6f93e649",
   "metadata": {},
   "outputs": [],
   "source": [
    "# Verifying that the api is working, prints my username (aliasidd04)\n",
    "\n",
    "api = tweepy.API(auth, wait_on_rate_limit = True)\n",
    "me = api.me()\n",
    "print(me.screen_name)"
   ]
  },
  {
   "cell_type": "code",
   "execution_count": null,
   "id": "0d6c78e9-4a3a-40a8-8898-982dd61f1889",
   "metadata": {},
   "outputs": [],
   "source": [
    "def extract_list_as_df(timeline_list, team, playing_today):\n",
    "    \n",
    "    # Takes in a list of tweets, generated through tweepy, and converts the list into a pandas dataframe\n",
    "    \n",
    "    columns = set()\n",
    "    allowed_types = [str, int]\n",
    "    tweets_data = [] # List that will contain the data for the dataframe\n",
    "    \n",
    "    for tweet in timeline_list: # For each tweet in the list of tweets pulled from tweepy\n",
    "\n",
    "        status_obj_url = f\"https://twitter.com/{tweet['screen_name']}/status/{tweet['id']}\" # Creates a link for tweet, to be added to the dataframe\n",
    "        \n",
    "        single_tweet_data = {\"user\": tweet['screen_name'], # Username of the tweeter\n",
    "                             \"id\": tweet['id'], # Unique ID of tweets\n",
    "                             \"text\": tweet['text'], # Text in the tweet\n",
    "                             \"url\": status_obj_url, # URL generated above\n",
    "                             \"datetime\": tweet['date'], # Date and time of tweet is UTC\n",
    "                             \"playing_today\": playing_today} # Custom field I manually updated each day for each team, to help label which teams were playing on what days\n",
    "        \n",
    "        tweets_data.append(single_tweet_data)\n",
    "        \n",
    "    header_cols = list(columns) # Creating the column names of the dataframe\n",
    "    header_cols.extend((\"user\",\"id\", \"text\",\"url\",\"datetime\", \"playing_today\"))\n",
    "\n",
    "    df = pd.DataFrame(tweets_data, columns = header_cols)    \n",
    "    return df"
   ]
  },
  {
   "cell_type": "code",
   "execution_count": null,
   "id": "e550eb4a-e341-4dac-b91c-2f84793a142a",
   "metadata": {},
   "outputs": [],
   "source": [
    "def getResults(query, day):\n",
    "    \n",
    "    # Executes query and stores the specified fields in a list of tweets\n",
    "    \n",
    "    results = []\n",
    "\n",
    "    for i, status in enumerate(tweepy.Cursor(api.search, q=query, since=day,lang=\"en\").items(10000)):\n",
    "        tweet = {}\n",
    "        tweet['user_id']  = str(status.user.id)\n",
    "        tweet['id'] = str(status.id)\n",
    "        tweet['screen_name'] = status.user.screen_name\n",
    "        tweet['text'] = status.text\n",
    "        tweet['date'] = status.created_at\n",
    "        tweet['date'] = tweet['date'].strftime('%Y-%m-%d, %H:%M:%S')\n",
    "        results.append(tweet.copy())\n",
    "        \n",
    "    return results"
   ]
  },
  {
   "cell_type": "code",
   "execution_count": null,
   "id": "148c4fcf-5dbb-4004-82aa-6a1885b07852",
   "metadata": {},
   "outputs": [],
   "source": [
    "team = 'acend' # Team for which the tweets are being pulled\n",
    "day = '2021-12-11' # Day of the tournament for which the tweets are being pulled\n",
    "playing_today = True # False if the team played on that day, True if they did\n",
    "path = f'C:\\\\Users\\\\Ali\\\\Desktop\\\\Coding\\\\Data Science Practice\\\\Twitter\\\\CSV Files\\\\{day}' \n",
    "query = f\"{team} #VCT OR {team} #VALORANTChampions -filter:retweets -from:valesports_na -from:ValorantEsports\" # Query that is sent through tweepy\n",
    "\n",
    "results = getResults(query,day) # Pulls tweets\n",
    "df = extract_list_as_df(results, team, playing_today) # Converts to pandas dataframe"
   ]
  }
 ],
 "metadata": {
  "kernelspec": {
   "display_name": "Python 3 (ipykernel)",
   "language": "python",
   "name": "python3"
  },
  "language_info": {
   "codemirror_mode": {
    "name": "ipython",
    "version": 3
   },
   "file_extension": ".py",
   "mimetype": "text/x-python",
   "name": "python",
   "nbconvert_exporter": "python",
   "pygments_lexer": "ipython3",
   "version": "3.8.11"
  }
 },
 "nbformat": 4,
 "nbformat_minor": 5
}
