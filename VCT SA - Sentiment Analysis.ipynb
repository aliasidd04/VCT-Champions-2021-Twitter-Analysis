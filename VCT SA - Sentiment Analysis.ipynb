{
 "cells": [
  {
   "cell_type": "code",
   "execution_count": null,
   "id": "22dc5e0b-d48a-4cba-ace5-4114b2c6c452",
   "metadata": {},
   "outputs": [],
   "source": [
    "import os\n",
    "import tweepy\n",
    "import pandas as pd\n",
    "import re\n",
    "import webbrowser\n",
    "from textblob import TextBlob"
   ]
  },
  {
   "cell_type": "code",
   "execution_count": null,
   "id": "18defe27-d9c1-4d1e-83cf-612767b40060",
   "metadata": {},
   "outputs": [],
   "source": [
    "def getSubjectivity(text):\n",
    "   \n",
    "    # Function to get the subjectivity of a tweet (between 0 and 1, 1 being more opinionated and 0 being more factual\n",
    "    \n",
    "    return TextBlob(text).sentiment.subjectivity\n",
    "\n",
    "def getPolarity(text):\n",
    "    \n",
    "    # Create function to get the polarity (how positive or negative the function is)\n",
    "    \n",
    "    return TextBlob(text).sentiment.polarity"
   ]
  },
  {
   "cell_type": "code",
   "execution_count": null,
   "id": "19eaa35e-121a-416a-a1eb-12561ce87cab",
   "metadata": {},
   "outputs": [],
   "source": [
    "def getAnalysis(score):\n",
    "    \n",
    "    # Function to compute the negative, neutral and positive analysis, based on a tweets polarity\n",
    "    \n",
    "    if score < 0:\n",
    "        return 'Negative'\n",
    "    elif score == 0:\n",
    "        return 'Neutral'\n",
    "    else:\n",
    "        return 'Positive'"
   ]
  },
  {
   "cell_type": "code",
   "execution_count": null,
   "id": "f81947be-b9ca-4d53-bcc4-c61919abb70e",
   "metadata": {},
   "outputs": [],
   "source": [
    "path = f'C:\\\\Users\\\\Ali\\\\Desktop\\\\Coding\\\\Data Science Practice\\\\Twitter\\\\Final_Dataset' "
   ]
  },
  {
   "cell_type": "code",
   "execution_count": null,
   "id": "425d4a21-dd44-42f1-9316-b12ea4fd849f",
   "metadata": {},
   "outputs": [],
   "source": [
    "for filename in os.listdir(path):\n",
    "    if filename.endswith(\".csv\"): \n",
    "        df = pd.read_csv(df_path+'\\\\'+filename, index_col=0)\n",
    "        df['Subjectivity'] = df['text'].apply(getSubjectivity)\n",
    "        df['Polarity'] = df['text'].apply(getPolarity)\n",
    "        df['Analysis'] = df['Polarity'].apply(getAnalysis)\n",
    "        df.to_csv(os.path.join(final_path,'VCT Champions Tweets (Final).csv')) # Export to specified folder"
   ]
  }
 ],
 "metadata": {
  "kernelspec": {
   "display_name": "Python 3 (ipykernel)",
   "language": "python",
   "name": "python3"
  },
  "language_info": {
   "codemirror_mode": {
    "name": "ipython",
    "version": 3
   },
   "file_extension": ".py",
   "mimetype": "text/x-python",
   "name": "python",
   "nbconvert_exporter": "python",
   "pygments_lexer": "ipython3",
   "version": "3.8.11"
  }
 },
 "nbformat": 4,
 "nbformat_minor": 5
}
